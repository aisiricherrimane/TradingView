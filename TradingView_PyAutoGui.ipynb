{
 "cells": [
  {
   "cell_type": "code",
   "execution_count": 32,
   "metadata": {},
   "outputs": [
    {
     "name": "stdout",
     "output_type": "stream",
     "text": [
      "Requirement already satisfied: pyautogui in /Users/aisiri/anaconda3/lib/python3.10/site-packages (0.9.54)\n",
      "Requirement already satisfied: pygetwindow>=0.0.5 in /Users/aisiri/anaconda3/lib/python3.10/site-packages (from pyautogui) (0.0.9)\n",
      "Requirement already satisfied: pytweening>=1.0.4 in /Users/aisiri/anaconda3/lib/python3.10/site-packages (from pyautogui) (1.2.0)\n",
      "Requirement already satisfied: pyobjc-framework-quartz in /Users/aisiri/anaconda3/lib/python3.10/site-packages (from pyautogui) (10.3.1)\n",
      "Requirement already satisfied: pyobjc-core in /Users/aisiri/anaconda3/lib/python3.10/site-packages (from pyautogui) (10.3.1)\n",
      "Requirement already satisfied: mouseinfo in /Users/aisiri/anaconda3/lib/python3.10/site-packages (from pyautogui) (0.1.3)\n",
      "Requirement already satisfied: pymsgbox in /Users/aisiri/anaconda3/lib/python3.10/site-packages (from pyautogui) (1.0.9)\n",
      "Requirement already satisfied: pyscreeze>=0.1.21 in /Users/aisiri/anaconda3/lib/python3.10/site-packages (from pyautogui) (0.1.30)\n",
      "Requirement already satisfied: pyrect in /Users/aisiri/anaconda3/lib/python3.10/site-packages (from pygetwindow>=0.0.5->pyautogui) (0.2.0)\n",
      "Requirement already satisfied: Pillow>=9.2.0 in /Users/aisiri/anaconda3/lib/python3.10/site-packages (from pyscreeze>=0.1.21->pyautogui) (9.4.0)\n",
      "Requirement already satisfied: rubicon-objc in /Users/aisiri/anaconda3/lib/python3.10/site-packages (from mouseinfo->pyautogui) (0.4.9)\n",
      "Requirement already satisfied: pyperclip in /Users/aisiri/anaconda3/lib/python3.10/site-packages (from mouseinfo->pyautogui) (1.9.0)\n",
      "Requirement already satisfied: pyobjc-framework-Cocoa>=10.3.1 in /Users/aisiri/anaconda3/lib/python3.10/site-packages (from pyobjc-framework-quartz->pyautogui) (10.3.1)\n",
      "^C\n",
      "\u001b[31mERROR: Operation cancelled by user\u001b[0m\u001b[31m\n",
      "\u001b[0mNote: you may need to restart the kernel to use updated packages.\n"
     ]
    }
   ],
   "source": [
    "pip install pyautogui"
   ]
  },
  {
   "cell_type": "code",
   "execution_count": 4,
   "metadata": {},
   "outputs": [],
   "source": [
    "from selenium import webdriver\n",
    "from selenium.webdriver.common.by import By \n",
    "from selenium.webdriver.chrome.service import Service\n",
    "from selenium.webdriver.common.action_chains import ActionChains\n",
    "import time\n",
    "import pyautogui\n",
    "from selenium import webdriver\n",
    "from selenium.webdriver.chrome.service import Service\n",
    "from selenium.webdriver.common.by import By\n",
    "from selenium.webdriver.support.ui import WebDriverWait   \n",
    "from selenium.webdriver.support import expected_conditions as EC\n",
    "from webdriver_manager.chrome import ChromeDriverManager\n",
    "\n",
    "# Set up the WebDriver \n",
    "driver = webdriver.Chrome(service=Service(ChromeDriverManager().install()))\n",
    "driver.get('https://www.tradingview.com/screener/')  \n",
    "\n"
   ]
  },
  {
   "cell_type": "code",
   "execution_count": 5,
   "metadata": {},
   "outputs": [],
   "source": [
    "time.sleep(5)\n",
    "#MOVE TO USER BUTTON\n",
    "pyautogui.moveTo(1035, 234, 5)\n",
    "pyautogui.click()\n",
    "time.sleep(1)\n",
    "\n",
    "# DROPDOWNS TO SELECT SIGN IN\n",
    "pyautogui.moveTo(1040, 275)\n",
    "pyautogui.click()\n",
    "time.sleep(1)\n",
    "\n",
    "# NOW IS ON THE SIGN IN PAGE AND IS BEING INSTRUCTED TO SELECT THE EMAIL BUTTON\n",
    "pyautogui.moveTo(941, 618)\n",
    "pyautogui.click()\n",
    "time.sleep(1)\n",
    "\n",
    "# NOW BELOW IT WILL BE SELECTION THE EMAIL SECTION AND FEEDING THE EMAIL TO THE PART TO LOGIN\n",
    "pyautogui.moveTo(869, 423)\n",
    "pyautogui.click()\n",
    "pyautogui.write(\"aisiricn21@gmail.com\")\n",
    "\n",
    "# NOW BELOW IT WILL BE SELECTION THE password SECTION AND FEEDING THE password TO THE PART TO LOGIN\n",
    "pyautogui.moveTo(865, 531)\n",
    "pyautogui.click()\n",
    "time.sleep(1)\n",
    "pyautogui.write(\"Ojiamazon@16\")\n",
    "\n",
    "# click on the login button\n",
    "pyautogui.moveTo(885, 656)\n",
    "pyautogui.click()\n"
   ]
  },
  {
   "cell_type": "code",
   "execution_count": 31,
   "metadata": {},
   "outputs": [
    {
     "data": {
      "text/plain": [
       "Point(x=1035, y=234)"
      ]
     },
     "execution_count": 31,
     "metadata": {},
     "output_type": "execute_result"
    }
   ],
   "source": [
    "time.sleep(9)\n",
    "pyautogui.position()"
   ]
  }
 ],
 "metadata": {
  "kernelspec": {
   "display_name": "base",
   "language": "python",
   "name": "python3"
  },
  "language_info": {
   "codemirror_mode": {
    "name": "ipython",
    "version": 3
   },
   "file_extension": ".py",
   "mimetype": "text/x-python",
   "name": "python",
   "nbconvert_exporter": "python",
   "pygments_lexer": "ipython3",
   "version": "3.10.9"
  }
 },
 "nbformat": 4,
 "nbformat_minor": 2
}
